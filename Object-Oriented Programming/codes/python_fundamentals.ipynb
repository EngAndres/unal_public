{
 "cells": [
  {
   "cell_type": "markdown",
   "metadata": {},
   "source": [
    "# Python Fundamentals: Variables, Conditionals, Loops, Tuples, Lists, and Dictionaries\n",
    "\n",
    "This notebook provides simple, well-explained examples for each topic. Run each cell to see the output."
   ]
  },
  {
   "cell_type": "markdown",
   "metadata": {},
   "source": [
    "## Variables\n",
    "\n",
    "Variables store data. Python infers the type automatically. You can assign different types of values to variables, and even change the type later."
   ]
  },
  {
   "cell_type": "code",
   "execution_count": 1,
   "metadata": {},
   "outputs": [
    {
     "name": "stdout",
     "output_type": "stream",
     "text": [
      "x: 10 type: <class 'int'>\n"
     ]
    }
   ],
   "source": [
    "# Example 1: Integer variable\n",
    "# Assign an integer value to x and print its value and type\n",
    "\n",
    "x = 10\n",
    "print(\"x:\", x, \"type:\", type(x))"
   ]
  },
  {
   "cell_type": "code",
   "execution_count": 2,
   "metadata": {},
   "outputs": [
    {
     "name": "stdout",
     "output_type": "stream",
     "text": [
      "pi: 3.1416 type: <class 'float'>\n"
     ]
    }
   ],
   "source": [
    "# Example 2: Float variable\n",
    "# Assign a floating-point value to pi and print its value and type\n",
    "\n",
    "pi = 3.1416\n",
    "print(\"pi:\", pi, \"type:\", type(pi))"
   ]
  },
  {
   "cell_type": "code",
   "execution_count": 3,
   "metadata": {},
   "outputs": [
    {
     "name": "stdout",
     "output_type": "stream",
     "text": [
      "name: Alice type: <class 'str'>\n"
     ]
    }
   ],
   "source": [
    "# Example 3: String variable\n",
    "# Assign a string value to name and print its value and type\n",
    "\n",
    "name = \"Alice\"\n",
    "print(\"name:\", name, \"type:\", type(name))"
   ]
  },
  {
   "cell_type": "code",
   "execution_count": 4,
   "metadata": {},
   "outputs": [
    {
     "name": "stdout",
     "output_type": "stream",
     "text": [
      "1 2.5 hello\n"
     ]
    }
   ],
   "source": [
    "# Example 4: Multiple assignment\n",
    "# Assign values to a, b, and c in a single line\n",
    "\n",
    "a, b, c = 1, 2.5, \"hello\"\n",
    "print(a, b, c)"
   ]
  },
  {
   "cell_type": "code",
   "execution_count": 5,
   "metadata": {},
   "outputs": [
    {
     "name": "stdout",
     "output_type": "stream",
     "text": [
      "5 <class 'int'>\n",
      "Now I'm a string! <class 'str'>\n"
     ]
    }
   ],
   "source": [
    "# Example 5: Changing variable type\n",
    "# Variables can change type during execution\n",
    "\n",
    "x = 5\n",
    "print(x, type(x))  # x is an integer\n",
    "x = \"Now I'm a string!\"\n",
    "print(x, type(x))  # x is now a string"
   ]
  },
  {
   "cell_type": "markdown",
   "metadata": {},
   "source": [
    "## Conditionals\n",
    "\n",
    "Use `if`, `elif`, and `else` to control the flow based on conditions. Indentation is important in Python."
   ]
  },
  {
   "cell_type": "code",
   "execution_count": null,
   "metadata": {},
   "outputs": [],
   "source": [
    "# Example 6: Basic if statement\n",
    "# Check if age is greater than or equal to 18\n",
    "\n",
    "age = 18\n",
    "if age >= 18:\n",
    "    print(\"You are an adult.\")"
   ]
  },
  {
   "cell_type": "code",
   "execution_count": null,
   "metadata": {},
   "outputs": [],
   "source": [
    "# Example 7: if-else statement\n",
    "# Print a message depending on the temperature value\n",
    "\n",
    "temperature = 15\n",
    "if temperature > 20:\n",
    "    print(\"It's warm.\")\n",
    "else:\n",
    "    print(\"It's cold.\")"
   ]
  },
  {
   "cell_type": "code",
   "execution_count": null,
   "metadata": {},
   "outputs": [],
   "source": [
    "# Example 8: if-elif-else chain\n",
    "# Assign a grade based on the score value\n",
    "\n",
    "score = 85\n",
    "if score >= 90:\n",
    "    print(\"Grade: A\")\n",
    "elif score >= 80:\n",
    "    print(\"Grade: B\")\n",
    "else:\n",
    "    print(\"Grade: C or below\")"
   ]
  },
  {
   "cell_type": "code",
   "execution_count": null,
   "metadata": {},
   "outputs": [],
   "source": [
    "# Example 9: Nested conditionals\n",
    "# Check if x is positive and even\n",
    "\n",
    "x = 10\n",
    "if x > 0:\n",
    "    print(\"x is positive\")\n",
    "    if x % 2 == 0:\n",
    "        print(\"x is even\")"
   ]
  },
  {
   "cell_type": "markdown",
   "metadata": {},
   "source": [
    "## Loops\n",
    "\n",
    "Python supports `for` and `while` loops. Use them to repeat actions."
   ]
  },
  {
   "cell_type": "code",
   "execution_count": 14,
   "metadata": {},
   "outputs": [
    {
     "name": "stdout",
     "output_type": "stream",
     "text": [
      "[3, 6, 9, 12, 15, 18, 21, 24, 27, 30, 33, 36, 39, 42, 45, 48, 51, 54, 57, 60, 63, 66, 69]\n"
     ]
    }
   ],
   "source": [
    "print(list(range(3, 70, 3)))"
   ]
  },
  {
   "cell_type": "code",
   "execution_count": null,
   "metadata": {},
   "outputs": [
    {
     "name": "stdout",
     "output_type": "stream",
     "text": [
      "Iteration: 0\n",
      "Iteration: 1\n",
      "Iteration: 2\n"
     ]
    }
   ],
   "source": [
    "# Example 10: For loop over a range\n",
    "# Print numbers from 0 to 2 using a for loop\n",
    "\n",
    "for i in range(3):\n",
    "    print(\"Iteration:\", i)"
   ]
  },
  {
   "cell_type": "code",
   "execution_count": null,
   "metadata": {},
   "outputs": [
    {
     "name": "stdout",
     "output_type": "stream",
     "text": [
      "Fruit: apple\n",
      "Fruit: banana\n",
      "Fruit: cherry\n",
      "Fruit: 5\n",
      "Fruit: 6.8\n"
     ]
    }
   ],
   "source": [
    "# Example 11: For loop over a list\n",
    "# Iterate through a list of fruits and print each one\n",
    "\n",
    "fruits = [\"apple\", \"banana\", \"cherry\", 5, 6.8]\n",
    "for fruit in fruits:\n",
    "    print(\"Fruit:\", fruit)"
   ]
  },
  {
   "cell_type": "code",
   "execution_count": null,
   "metadata": {},
   "outputs": [],
   "source": [
    "# Example 12: While loop\n",
    "# Print numbers from 0 to 2 using a while loop\n",
    "\n",
    "count = 0\n",
    "while count < 3:\n",
    "    print(\"Count:\", count)\n",
    "    count += 1"
   ]
  },
  {
   "cell_type": "code",
   "execution_count": null,
   "metadata": {},
   "outputs": [],
   "source": [
    "# Example 13: Loop with break\n",
    "# Stop the loop when n equals 5\n",
    "\n",
    "for n in range(10):\n",
    "    if n == 5:\n",
    "        break\n",
    "    print(n)"
   ]
  },
  {
   "cell_type": "code",
   "execution_count": null,
   "metadata": {},
   "outputs": [],
   "source": [
    "# Example 14: Loop with continue\n",
    "# Skip printing when n equals 2\n",
    "for n in range(5):\n",
    "    if n == 2:\n",
    "        continue\n",
    "    print(n)"
   ]
  },
  {
   "cell_type": "code",
   "execution_count": null,
   "metadata": {},
   "outputs": [],
   "source": [
    "# Example 15: Loop with else\n",
    "# The else block runs after the for loop completes normally\n",
    "for i in range(3):\n",
    "    print(i)\n",
    "else:\n",
    "    print(\"Loop finished!\")"
   ]
  },
  {
   "cell_type": "markdown",
   "metadata": {},
   "source": [
    "## Tuples\n",
    "\n",
    "Tuples are immutable sequences. Use parentheses or commas. Once created, their contents cannot be changed."
   ]
  },
  {
   "cell_type": "code",
   "execution_count": null,
   "metadata": {},
   "outputs": [],
   "source": [
    "# Example 16: Creating and accessing a tuple\n",
    "# Create a tuple and access its elements by index\n",
    "tup = (1, 2, 3, \"hello\")\n",
    "print(tup)\n",
    "print(\"Second element:\", tup[1])"
   ]
  },
  {
   "cell_type": "code",
   "execution_count": null,
   "metadata": {},
   "outputs": [],
   "source": [
    "# Example 17: Nested tuples\n",
    "# Tuples can contain other tuples\n",
    "t1 = (1, 2)\n",
    "t2 = (\"a\", \"b\")\n",
    "t3 = (t1, t2)\n",
    "print(t3)\n",
    "print(\"First of second tuple:\", t3[1][0])"
   ]
  },
  {
   "cell_type": "code",
   "execution_count": null,
   "metadata": {},
   "outputs": [],
   "source": [
    "# Example 18: Tuple concatenation\n",
    "# Combine two tuples using the + operator\n",
    "a = (1, 2)\n",
    "b = (3, 4)\n",
    "c = a + b\n",
    "print(c)"
   ]
  },
  {
   "cell_type": "code",
   "execution_count": null,
   "metadata": {},
   "outputs": [],
   "source": [
    "# Example 19: Tuple unpacking\n",
    "# Assign tuple elements to variables in a single line\n",
    "point = (4, 5)\n",
    "x, y = point\n",
    "print(\"x:\", x, \"y:\", y)"
   ]
  },
  {
   "cell_type": "markdown",
   "metadata": {},
   "source": [
    "## Lists\n",
    "\n",
    "Lists are mutable sequences. Use square brackets. You can add, remove, or change elements."
   ]
  },
  {
   "cell_type": "code",
   "execution_count": null,
   "metadata": {},
   "outputs": [],
   "source": [
    "# Example 20: Creating and modifying a list\n",
    "# Create a list, append an element, and print the result\n",
    "lst = [10, 20, 30]\n",
    "print(lst)\n",
    "lst.append(40)\n",
    "print(\"After append:\", lst)"
   ]
  },
  {
   "cell_type": "code",
   "execution_count": null,
   "metadata": {},
   "outputs": [],
   "source": [
    "# Example 21: List slicing and indexing\n",
    "# Access a slice and the last element of a list\n",
    "numbers = [0, 1, 2, 3, 4, 5]\n",
    "print(numbers[2:5])  # elements at index 2,3,4\n",
    "print(numbers[-1])   # last element"
   ]
  },
  {
   "cell_type": "code",
   "execution_count": null,
   "metadata": {},
   "outputs": [],
   "source": [
    "# Example 22: Iterating and modifying lists\n",
    "# Print each color in uppercase, then modify an element\n",
    "colors = [\"red\", \"green\", \"blue\"]\n",
    "for color in colors:\n",
    "    print(color.upper())\n",
    "colors[1] = \"yellow\"\n",
    "print(colors)"
   ]
  },
  {
   "cell_type": "code",
   "execution_count": null,
   "metadata": {},
   "outputs": [],
   "source": [
    "# Example 23: Removing elements from a list\n",
    "# Remove the second element and print the result\n",
    "animals = [\"cat\", \"dog\", \"bird\"]\n",
    "removed = animals.pop(1)\n",
    "print(\"Removed:\", removed)\n",
    "print(\"Now:\", animals)"
   ]
  },
  {
   "cell_type": "code",
   "execution_count": null,
   "metadata": {},
   "outputs": [],
   "source": [
    "# Example 24: List comprehension\n",
    "# Create a list of squares using a list comprehension\n",
    "squares = [x**2 for x in range(5)]\n",
    "print(squares)"
   ]
  },
  {
   "cell_type": "markdown",
   "metadata": {},
   "source": [
    "## Dictionaries\n",
    "\n",
    "Dictionaries store key-value pairs. Keys must be unique and immutable."
   ]
  },
  {
   "cell_type": "code",
   "execution_count": null,
   "metadata": {},
   "outputs": [],
   "source": [
    "# Example 25: Creating and accessing a dictionary\n",
    "# Create a dictionary and access its values\n",
    "person = {\"name\": \"Bob\", \"age\": 22}\n",
    "print(person)\n",
    "print(\"Name:\", person[\"name\"])\n",
    "print(\"Age:\", person.get(\"age\"))"
   ]
  },
  {
   "cell_type": "code",
   "execution_count": null,
   "metadata": {},
   "outputs": [],
   "source": [
    "# Example 26: Adding, updating, and iterating over a dictionary\n",
    "# Add a new key, update a value, and print all key-value pairs\n",
    "person[\"city\"] = \"Bogotá\"\n",
    "person[\"age\"] = 23\n",
    "for key, value in person.items():\n",
    "    print(key, \":\", value)"
   ]
  },
  {
   "cell_type": "code",
   "execution_count": null,
   "metadata": {},
   "outputs": [],
   "source": [
    "# Example 27: Checking for keys and removing items\n",
    "# Check if a key exists and remove it\n",
    "if \"city\" in person:\n",
    "    print(\"City is present.\")\n",
    "del person[\"city\"]\n",
    "print(person)"
   ]
  },
  {
   "cell_type": "code",
   "execution_count": null,
   "metadata": {},
   "outputs": [],
   "source": [
    "# Example 28: Dictionary comprehension\n",
    "# Create a dictionary of squares using a dictionary comprehension\n",
    "nums = [1, 2, 3, 4]\n",
    "squares = {n: n**2 for n in nums}\n",
    "print(squares)"
   ]
  }
 ],
 "metadata": {
  "kernelspec": {
   "display_name": "3.13.3",
   "language": "python",
   "name": "python3"
  },
  "language_info": {
   "codemirror_mode": {
    "name": "ipython",
    "version": 3
   },
   "file_extension": ".py",
   "mimetype": "text/x-python",
   "name": "python",
   "nbconvert_exporter": "python",
   "pygments_lexer": "ipython3",
   "version": "3.13.3"
  }
 },
 "nbformat": 4,
 "nbformat_minor": 0
}
