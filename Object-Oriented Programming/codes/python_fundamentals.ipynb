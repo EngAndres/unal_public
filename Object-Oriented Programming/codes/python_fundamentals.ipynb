{
    "cells": [
     {
      "cell_type": "markdown",
      "metadata": {},
      "source": [
       "# Python Fundamentals: Variables, Conditionals, Loops, Tuples, Lists, and Dictionaries",
       "",
       "This notebook provides simple, well-explained examples for each topic. Run each cell to see the output."
      ]
     },
     {
      "cell_type": "markdown",
      "metadata": {},
      "source": [
       "## Variables",
       "",
       "Variables store data. Python infers the type automatically. You can assign different types of values to variables, and even change the type later."
      ]
     },
     {
      "cell_type": "code",
      "metadata": {},
      "source": [
       "# Example 1: Integer variable",
       "# Assign an integer value to x and print its value and type",
       "x = 10",
       "print(\"x:\", x, \"type:\", type(x))"
      ]
     },
     {
      "cell_type": "code",
      "metadata": {},
      "source": [
       "# Example 2: Float variable",
       "# Assign a floating-point value to pi and print its value and type",
       "pi = 3.1416",
       "print(\"pi:\", pi, \"type:\", type(pi))"
      ]
     },
     {
      "cell_type": "code",
      "metadata": {},
      "source": [
       "# Example 3: String variable",
       "# Assign a string value to name and print its value and type",
       "name = \"Alice\"",
       "print(\"name:\", name, \"type:\", type(name))"
      ]
     },
     {
      "cell_type": "code",
      "metadata": {},
      "source": [
       "# Example 4: Multiple assignment",
       "# Assign values to a, b, and c in a single line",
       "a, b, c = 1, 2.5, \"hello\"",
       "print(a, b, c)"
      ]
     },
     {
      "cell_type": "code",
      "metadata": {},
      "source": [
       "# Example 5: Changing variable type",
       "# Variables can change type during execution",
       "x = 5",
       "print(x, type(x))  # x is an integer",
       "x = \"Now I'm a string!\"",
       "print(x, type(x))  # x is now a string"
      ]
     },
     {
      "cell_type": "markdown",
      "metadata": {},
      "source": [
       "## Conditionals",
       "",
       "Use `if`, `elif`, and `else` to control the flow based on conditions. Indentation is important in Python."
      ]
     },
     {
      "cell_type": "code",
      "metadata": {},
      "source": [
       "# Example 6: Basic if statement",
       "# Check if age is greater than or equal to 18",
       "age = 18",
       "if age >= 18:",
       "    print(\"You are an adult.\")"
      ]
     },
     {
      "cell_type": "code",
      "metadata": {},
      "source": [
       "# Example 7: if-else statement",
       "# Print a message depending on the temperature value",
       "temperature = 15",
       "if temperature > 20:",
       "    print(\"It's warm.\")",
       "else:",
       "    print(\"It's cold.\")"
      ]
     },
     {
      "cell_type": "code",
      "metadata": {},
      "source": [
       "# Example 8: if-elif-else chain",
       "# Assign a grade based on the score value",
       "score = 85",
       "if score >= 90:",
       "    print(\"Grade: A\")",
       "elif score >= 80:",
       "    print(\"Grade: B\")",
       "else:",
       "    print(\"Grade: C or below\")"
      ]
     },
     {
      "cell_type": "code",
      "metadata": {},
      "source": [
       "# Example 9: Nested conditionals",
       "# Check if x is positive and even",
       "x = 10",
       "if x > 0:",
       "    print(\"x is positive\")",
       "    if x % 2 == 0:",
       "        print(\"x is even\")"
      ]
     },
     {
      "cell_type": "markdown",
      "metadata": {},
      "source": [
       "## Loops",
       "",
       "Python supports `for` and `while` loops. Use them to repeat actions."
      ]
     },
     {
      "cell_type": "code",
      "metadata": {},
      "source": [
       "# Example 10: For loop over a range",
       "# Print numbers from 0 to 2 using a for loop",
       "for i in range(3):",
       "    print(\"Iteration:\", i)"
      ]
     },
     {
      "cell_type": "code",
      "metadata": {},
      "source": [
       "# Example 11: For loop over a list",
       "# Iterate through a list of fruits and print each one",
       "fruits = [\"apple\", \"banana\", \"cherry\"]",
       "for fruit in fruits:",
       "    print(\"Fruit:\", fruit)"
      ]
     },
     {
      "cell_type": "code",
      "metadata": {},
      "source": [
       "# Example 12: While loop",
       "# Print numbers from 0 to 2 using a while loop",
       "count = 0",
       "while count < 3:",
       "    print(\"Count:\", count)",
       "    count += 1"
      ]
     },
     {
      "cell_type": "code",
      "metadata": {},
      "source": [
       "# Example 13: Loop with break",
       "# Stop the loop when n equals 5",
       "for n in range(10):",
       "    if n == 5:",
       "        break",
       "    print(n)"
      ]
     },
     {
      "cell_type": "code",
      "metadata": {},
      "source": [
       "# Example 14: Loop with continue",
       "# Skip printing when n equals 2",
       "for n in range(5):",
       "    if n == 2:",
       "        continue",
       "    print(n)"
      ]
     },
     {
      "cell_type": "code",
      "metadata": {},
      "source": [
       "# Example 15: Loop with else",
       "# The else block runs after the for loop completes normally",
       "for i in range(3):",
       "    print(i)",
       "else:",
       "    print(\"Loop finished!\")"
      ]
     },
     {
      "cell_type": "markdown",
      "metadata": {},
      "source": [
       "## Tuples",
       "",
       "Tuples are immutable sequences. Use parentheses or commas. Once created, their contents cannot be changed."
      ]
     },
     {
      "cell_type": "code",
      "metadata": {},
      "source": [
       "# Example 16: Creating and accessing a tuple",
       "# Create a tuple and access its elements by index",
       "tup = (1, 2, 3, \"hello\")",
       "print(tup)",
       "print(\"Second element:\", tup[1])"
      ]
     },
     {
      "cell_type": "code",
      "metadata": {},
      "source": [
       "# Example 17: Nested tuples",
       "# Tuples can contain other tuples",
       "t1 = (1, 2)",
       "t2 = (\"a\", \"b\")",
       "t3 = (t1, t2)",
       "print(t3)",
       "print(\"First of second tuple:\", t3[1][0])"
      ]
     },
     {
      "cell_type": "code",
      "metadata": {},
      "source": [
       "# Example 18: Tuple concatenation",
       "# Combine two tuples using the + operator",
       "a = (1, 2)",
       "b = (3, 4)",
       "c = a + b",
       "print(c)"
      ]
     },
     {
      "cell_type": "code",
      "metadata": {},
      "source": [
       "# Example 19: Tuple unpacking",
       "# Assign tuple elements to variables in a single line",
       "point = (4, 5)",
       "x, y = point",
       "print(\"x:\", x, \"y:\", y)"
      ]
     },
     {
      "cell_type": "markdown",
      "metadata": {},
      "source": [
       "## Lists",
       "",
       "Lists are mutable sequences. Use square brackets. You can add, remove, or change elements."
      ]
     },
     {
      "cell_type": "code",
      "metadata": {},
      "source": [
       "# Example 20: Creating and modifying a list",
       "# Create a list, append an element, and print the result",
       "lst = [10, 20, 30]",
       "print(lst)",
       "lst.append(40)",
       "print(\"After append:\", lst)"
      ]
     },
     {
      "cell_type": "code",
      "metadata": {},
      "source": [
       "# Example 21: List slicing and indexing",
       "# Access a slice and the last element of a list",
       "numbers = [0, 1, 2, 3, 4, 5]",
       "print(numbers[2:5])  # elements at index 2,3,4",
       "print(numbers[-1])   # last element"
      ]
     },
     {
      "cell_type": "code",
      "metadata": {},
      "source": [
       "# Example 22: Iterating and modifying lists",
       "# Print each color in uppercase, then modify an element",
       "colors = [\"red\", \"green\", \"blue\"]",
       "for color in colors:",
       "    print(color.upper())",
       "colors[1] = \"yellow\"",
       "print(colors)"
      ]
     },
     {
      "cell_type": "code",
      "metadata": {},
      "source": [
       "# Example 23: Removing elements from a list",
       "# Remove the second element and print the result",
       "animals = [\"cat\", \"dog\", \"bird\"]",
       "removed = animals.pop(1)",
       "print(\"Removed:\", removed)",
       "print(\"Now:\", animals)"
      ]
     },
     {
      "cell_type": "code",
      "metadata": {},
      "source": [
       "# Example 24: List comprehension",
       "# Create a list of squares using a list comprehension",
       "squares = [x**2 for x in range(5)]",
       "print(squares)"
      ]
     },
     {
      "cell_type": "markdown",
      "metadata": {},
      "source": [
       "## Dictionaries",
       "",
       "Dictionaries store key-value pairs. Keys must be unique and immutable."
      ]
     },
     {
      "cell_type": "code",
      "metadata": {},
      "source": [
       "# Example 25: Creating and accessing a dictionary",
       "# Create a dictionary and access its values",
       "person = {\"name\": \"Bob\", \"age\": 22}",
       "print(person)",
       "print(\"Name:\", person[\"name\"])",
       "print(\"Age:\", person.get(\"age\"))"
      ]
     },
     {
      "cell_type": "code",
      "metadata": {},
      "source": [
       "# Example 26: Adding, updating, and iterating over a dictionary",
       "# Add a new key, update a value, and print all key-value pairs",
       "person[\"city\"] = \"Bogotá\"",
       "person[\"age\"] = 23",
       "for key, value in person.items():",
       "    print(key, \":\", value)"
      ]
     },
     {
      "cell_type": "code",
      "metadata": {},
      "source": [
       "# Example 27: Checking for keys and removing items",
       "# Check if a key exists and remove it",
       "if \"city\" in person:",
       "    print(\"City is present.\")",
       "del person[\"city\"]",
       "print(person)"
      ]
     },
     {
      "cell_type": "code",
      "metadata": {},
      "source": [
       "# Example 28: Dictionary comprehension",
       "# Create a dictionary of squares using a dictionary comprehension",
       "nums = [1, 2, 3, 4]",
       "squares = {n: n**2 for n in nums}",
       "print(squares)"
      ]
     }
    ],
    "metadata": {
     "kernelspec": {
      "display_name": "Python 3",
      "language": "python",
      "name": "python3"
     },
     "language_info": {
      "name": "python",
      "version": ""
     }
    },
    "nbformat": 4,
    "nbformat_minor": 0
   }